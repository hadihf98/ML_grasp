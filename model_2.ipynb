{
 "cells": [
  {
   "cell_type": "code",
   "execution_count": 1,
   "metadata": {},
   "outputs": [],
   "source": [
    "from tensorflow.keras.models import Sequential\n",
    "from tensorflow.keras.layers import *\n",
    "from tensorflow.keras.preprocessing.image import ImageDataGenerator, array_to_img, img_to_array, load_img"
   ]
  },
  {
   "cell_type": "code",
   "execution_count": 2,
   "metadata": {},
   "outputs": [],
   "source": [
    "from tensorflow import keras\n",
    "from tensorflow.keras.utils import to_categorical"
   ]
  },
  {
   "cell_type": "code",
   "execution_count": 3,
   "metadata": {},
   "outputs": [],
   "source": [
    "import cv2\n",
    "\n",
    "# from utils.loader import Loader\n",
    "# from utils.image import draw_around_box, draw_pose, get_area_of_interest\n",
    "# from utils.trainer import Trainer\n",
    "\n",
    "# import tensorflow.compat.v1 as tf\n",
    "# tf.disable_v2_behavior()\n",
    "import tensorflow as tf\n",
    "\n",
    "# from tensorflow.keras.preprocessing import image\n",
    "from tqdm import tqdm\n",
    "import matplotlib.pyplot as plt\n",
    "import numpy as np\n",
    "import pickle"
   ]
  },
  {
   "cell_type": "code",
   "execution_count": 4,
   "metadata": {},
   "outputs": [
    {
     "data": {
      "text/plain": [
       "'2.3.1'"
      ]
     },
     "execution_count": 4,
     "metadata": {},
     "output_type": "execute_result"
    }
   ],
   "source": [
    "tf.__version__"
   ]
  },
  {
   "cell_type": "code",
   "execution_count": 5,
   "metadata": {},
   "outputs": [],
   "source": [
    "def show(img):\n",
    "    plt.imshow(img)\n",
    "    plt.show()"
   ]
  },
  {
   "cell_type": "code",
   "execution_count": 6,
   "metadata": {},
   "outputs": [],
   "source": [
    "# when need to load\n",
    "filename = 'training_data_d_0.025'\n",
    "infile = open(filename,'rb')\n",
    "training_data_img = pickle.load(infile)\n",
    "infile.close()"
   ]
  },
  {
   "cell_type": "code",
   "execution_count": 7,
   "metadata": {},
   "outputs": [],
   "source": [
    "X_train = []\n",
    "y_train = []"
   ]
  },
  {
   "cell_type": "code",
   "execution_count": 8,
   "metadata": {},
   "outputs": [],
   "source": [
    "for features, label in training_data_img:\n",
    "    X_train.append(features)\n",
    "    y_train.append(label)\n",
    "IMG_SIZE_y = 150\n",
    "IMG_SIZE_x = 150\n",
    "\n",
    "# X = np.repeat(np.array(X)[..., np.newaxis], 3, -1)\n",
    "X_train = np.array(X_train).reshape(-1, IMG_SIZE_x, IMG_SIZE_y, 1)\n",
    "y_train = np.array(y_train).reshape((-1,1))"
   ]
  },
  {
   "cell_type": "code",
   "execution_count": 9,
   "metadata": {},
   "outputs": [],
   "source": [
    "# when need to load\n",
    "filename = 'test_data_d_0.025'\n",
    "infile = open(filename,'rb')\n",
    "test_data_img = pickle.load(infile)\n",
    "infile.close()"
   ]
  },
  {
   "cell_type": "code",
   "execution_count": 10,
   "metadata": {},
   "outputs": [],
   "source": [
    "X_test = []\n",
    "y_test = []"
   ]
  },
  {
   "cell_type": "code",
   "execution_count": 11,
   "metadata": {},
   "outputs": [],
   "source": [
    "for features, label in test_data_img:\n",
    "    X_test.append(features)\n",
    "    y_test.append(label)\n",
    "IMG_SIZE_y = 150\n",
    "IMG_SIZE_x = 150\n",
    "\n",
    "# X = np.repeat(np.array(X)[..., np.newaxis], 3, -1)\n",
    "X_test = np.array(X_test).reshape(-1, IMG_SIZE_x, IMG_SIZE_y, 1)\n",
    "y_test = np.array(y_test).reshape((-1,1))"
   ]
  },
  {
   "cell_type": "code",
   "execution_count": 12,
   "metadata": {},
   "outputs": [],
   "source": [
    "# when need to load\n",
    "filename = 'validate_data_d_0.025'\n",
    "infile = open(filename,'rb')\n",
    "validate_data_img = pickle.load(infile)\n",
    "infile.close()"
   ]
  },
  {
   "cell_type": "code",
   "execution_count": 13,
   "metadata": {},
   "outputs": [],
   "source": [
    "X_validate = []\n",
    "y_validate = []"
   ]
  },
  {
   "cell_type": "code",
   "execution_count": 14,
   "metadata": {},
   "outputs": [],
   "source": [
    "for features, label in validate_data_img:\n",
    "    X_validate.append(features)\n",
    "    y_validate.append(label)\n",
    "IMG_SIZE_y = 150\n",
    "IMG_SIZE_x = 150\n",
    "\n",
    "# X = np.repeat(np.array(X)[..., np.newaxis], 3, -1)\n",
    "X_validate = np.array(X_validate).reshape(-1, IMG_SIZE_x, IMG_SIZE_y, 1)\n",
    "y_validate = np.array(y_validate).reshape((-1,1))"
   ]
  },
  {
   "cell_type": "code",
   "execution_count": 15,
   "metadata": {},
   "outputs": [
    {
     "data": {
      "text/plain": [
       "(969, 1)"
      ]
     },
     "execution_count": 15,
     "metadata": {},
     "output_type": "execute_result"
    }
   ],
   "source": [
    "y_validate.shape"
   ]
  },
  {
   "cell_type": "code",
   "execution_count": 16,
   "metadata": {},
   "outputs": [
    {
     "data": {
      "text/plain": [
       "(969, 150, 150, 1)"
      ]
     },
     "execution_count": 16,
     "metadata": {},
     "output_type": "execute_result"
    }
   ],
   "source": [
    "X_validate.shape"
   ]
  },
  {
   "cell_type": "code",
   "execution_count": 17,
   "metadata": {},
   "outputs": [
    {
     "data": {
      "text/plain": [
       "(969, 150, 150, 1)"
      ]
     },
     "execution_count": 17,
     "metadata": {},
     "output_type": "execute_result"
    }
   ],
   "source": [
    "X_test.shape"
   ]
  },
  {
   "cell_type": "code",
   "execution_count": 18,
   "metadata": {},
   "outputs": [
    {
     "data": {
      "text/plain": [
       "(2907, 150, 150, 1)"
      ]
     },
     "execution_count": 18,
     "metadata": {},
     "output_type": "execute_result"
    }
   ],
   "source": [
    "X_train.shape"
   ]
  },
  {
   "cell_type": "code",
   "execution_count": 19,
   "metadata": {},
   "outputs": [
    {
     "name": "stdout",
     "output_type": "stream",
     "text": [
      "[2223  684]\n"
     ]
    }
   ],
   "source": [
    "u, c = np.unique(y_train, return_counts=True)\n",
    "print(c)\n"
   ]
  },
  {
   "cell_type": "code",
   "execution_count": 20,
   "metadata": {},
   "outputs": [],
   "source": [
    "y_train = to_categorical(y_train)"
   ]
  },
  {
   "cell_type": "code",
   "execution_count": 21,
   "metadata": {},
   "outputs": [],
   "source": [
    "train_datagen = ImageDataGenerator(\n",
    "        rotation_range=40,\n",
    "        width_shift_range=0.2,\n",
    "        height_shift_range=0.2,\n",
    "        rescale=1./255,\n",
    "        shear_range=0.2,\n",
    "        zoom_range=0.2,\n",
    "        horizontal_flip=True,\n",
    "        fill_mode='nearest')"
   ]
  },
  {
   "cell_type": "code",
   "execution_count": 22,
   "metadata": {},
   "outputs": [],
   "source": [
    "test_datagen = ImageDataGenerator(rescale=1./255)"
   ]
  },
  {
   "cell_type": "code",
   "execution_count": 23,
   "metadata": {},
   "outputs": [],
   "source": [
    "physical_devices = tf.config.experimental.list_physical_devices('GPU')\n",
    "tf.config.experimental.set_memory_growth(physical_devices[0], True)"
   ]
  },
  {
   "cell_type": "code",
   "execution_count": 24,
   "metadata": {},
   "outputs": [],
   "source": [
    "it = train_datagen.flow(X_train, y_train, batch_size = 32)"
   ]
  },
  {
   "cell_type": "code",
   "execution_count": 25,
   "metadata": {},
   "outputs": [],
   "source": [
    "test_it = test_datagen.flow(X_test, y_test, batch_size = 32)"
   ]
  },
  {
   "cell_type": "code",
   "execution_count": 26,
   "metadata": {},
   "outputs": [],
   "source": [
    "val_it = test_datagen.flow(X_validate, y_validate, batch_size = 32)"
   ]
  },
  {
   "cell_type": "code",
   "execution_count": 27,
   "metadata": {},
   "outputs": [],
   "source": [
    "def act(): return LeakyReLU(alpha=0.1)\n",
    "def reg(l1=0.0, l2=0.3): return tf.keras.regularizers.l1_l2(l1=l1, l2=l2)"
   ]
  },
  {
   "cell_type": "code",
   "execution_count": 28,
   "metadata": {},
   "outputs": [],
   "source": [
    "model = Sequential()\n",
    "model.add(Conv2D(32, (5, 5), strides=(2, 2), activation=LeakyReLU(alpha=0.1), kernel_regularizer=reg(), bias_regularizer=reg(), input_shape=(150, 150, 1)))\n",
    "\n",
    "model.add(BatchNormalization())\n",
    "\n",
    "model.add(Conv2D(48, (5, 5), strides=(1, 1), dilation_rate=(1, 1), activation=LeakyReLU(alpha=0.1), kernel_regularizer=reg(), bias_regularizer=reg()))\n",
    "model.add(BatchNormalization())\n",
    "\n",
    "model.add(Conv2D(64, (5, 5), dilation_rate=(1, 1), activation=LeakyReLU(alpha=0.1), kernel_regularizer=reg(), bias_regularizer=reg()))\n",
    "model.add(BatchNormalization())\n",
    "model.add(Dropout(0.4))\n",
    "\n",
    "model.add(Conv2D(142, (6, 6), dilation_rate=(1, 1), activation=LeakyReLU(alpha=0.1), kernel_regularizer=reg(), bias_regularizer=reg()))\n",
    "model.add(Dropout(0.3))\n",
    "    \n",
    "model.add(Conv2D(128, (1, 1), dilation_rate=(1, 1), activation=LeakyReLU(alpha=0.1), kernel_regularizer=reg(), bias_regularizer=reg()))\n",
    "model.add(Dropout(0.3))\n",
    "model.add(Conv2D(2, (1,1), activation='softmax', dilation_rate=(1, 1), bias_regularizer=reg(l2=0.2)))\n",
    "model.add(Flatten())\n",
    "model.add(Dense(2, activation='sigmoid'))"
   ]
  },
  {
   "cell_type": "code",
   "execution_count": 29,
   "metadata": {},
   "outputs": [],
   "source": [
    "model.compile(loss=keras.losses.binary_crossentropy,\n",
    "              optimizer=keras.optimizers.Adam(learning_rate=1e-7),\n",
    "              metrics=['accuracy'])"
   ]
  },
  {
   "cell_type": "code",
   "execution_count": 30,
   "metadata": {},
   "outputs": [
    {
     "name": "stdout",
     "output_type": "stream",
     "text": [
      "Model: \"sequential\"\n",
      "_________________________________________________________________\n",
      "Layer (type)                 Output Shape              Param #   \n",
      "=================================================================\n",
      "conv2d (Conv2D)              (None, 73, 73, 32)        832       \n",
      "_________________________________________________________________\n",
      "batch_normalization (BatchNo (None, 73, 73, 32)        128       \n",
      "_________________________________________________________________\n",
      "conv2d_1 (Conv2D)            (None, 69, 69, 48)        38448     \n",
      "_________________________________________________________________\n",
      "batch_normalization_1 (Batch (None, 69, 69, 48)        192       \n",
      "_________________________________________________________________\n",
      "conv2d_2 (Conv2D)            (None, 65, 65, 64)        76864     \n",
      "_________________________________________________________________\n",
      "batch_normalization_2 (Batch (None, 65, 65, 64)        256       \n",
      "_________________________________________________________________\n",
      "dropout (Dropout)            (None, 65, 65, 64)        0         \n",
      "_________________________________________________________________\n",
      "conv2d_3 (Conv2D)            (None, 60, 60, 142)       327310    \n",
      "_________________________________________________________________\n",
      "dropout_1 (Dropout)          (None, 60, 60, 142)       0         \n",
      "_________________________________________________________________\n",
      "conv2d_4 (Conv2D)            (None, 60, 60, 128)       18304     \n",
      "_________________________________________________________________\n",
      "dropout_2 (Dropout)          (None, 60, 60, 128)       0         \n",
      "_________________________________________________________________\n",
      "conv2d_5 (Conv2D)            (None, 60, 60, 2)         258       \n",
      "_________________________________________________________________\n",
      "flatten (Flatten)            (None, 7200)              0         \n",
      "_________________________________________________________________\n",
      "dense (Dense)                (None, 2)                 14402     \n",
      "=================================================================\n",
      "Total params: 476,994\n",
      "Trainable params: 476,706\n",
      "Non-trainable params: 288\n",
      "_________________________________________________________________\n"
     ]
    }
   ],
   "source": [
    "model.summary()"
   ]
  },
  {
   "cell_type": "code",
   "execution_count": 31,
   "metadata": {},
   "outputs": [
    {
     "name": "stdout",
     "output_type": "stream",
     "text": [
      "Epoch 1/30\n",
      " 2/90 [..............................] - ETA: 5s - loss: 95.9669 - accuracy: 0.3750WARNING:tensorflow:Callbacks method `on_train_batch_end` is slow compared to the batch time (batch time: 0.0368s vs `on_train_batch_end` time: 0.0831s). Check your callbacks.\n",
      "90/90 [==============================] - 16s 175ms/step - loss: 95.9683 - accuracy: 0.2793 - val_loss: 96.0848 - val_accuracy: 0.0000e+00\n",
      "Epoch 2/30\n",
      "90/90 [==============================] - 8s 91ms/step - loss: 95.9167 - accuracy: 0.2786 - val_loss: 96.0365 - val_accuracy: 0.0000e+00\n",
      "Epoch 3/30\n",
      "90/90 [==============================] - 8s 93ms/step - loss: 95.8600 - accuracy: 0.2936 - val_loss: 95.9885 - val_accuracy: 0.0000e+00\n",
      "Epoch 4/30\n",
      "90/90 [==============================] - 8s 94ms/step - loss: 95.8073 - accuracy: 0.3033 - val_loss: 95.9404 - val_accuracy: 0.0000e+00\n",
      "Epoch 5/30\n",
      "90/90 [==============================] - 8s 94ms/step - loss: 95.7559 - accuracy: 0.3217 - val_loss: 95.8926 - val_accuracy: 0.0010\n",
      "Epoch 6/30\n",
      "90/90 [==============================] - 8s 94ms/step - loss: 95.6948 - accuracy: 0.3440 - val_loss: 95.8456 - val_accuracy: 0.0196\n",
      "Epoch 7/30\n",
      "90/90 [==============================] - 8s 94ms/step - loss: 95.6429 - accuracy: 0.3544 - val_loss: 95.7990 - val_accuracy: 0.0588\n",
      "Epoch 8/30\n",
      "90/90 [==============================] - 9s 95ms/step - loss: 95.5938 - accuracy: 0.3617 - val_loss: 95.7522 - val_accuracy: 0.1063\n",
      "Epoch 9/30\n",
      "90/90 [==============================] - 9s 95ms/step - loss: 95.5327 - accuracy: 0.4028 - val_loss: 95.7047 - val_accuracy: 0.1569\n",
      "Epoch 10/30\n",
      "90/90 [==============================] - 9s 94ms/step - loss: 95.4821 - accuracy: 0.4108 - val_loss: 95.6571 - val_accuracy: 0.2116\n",
      "Epoch 11/30\n",
      "90/90 [==============================] - 9s 95ms/step - loss: 95.4347 - accuracy: 0.4240 - val_loss: 95.6094 - val_accuracy: 0.2766\n",
      "Epoch 12/30\n",
      "90/90 [==============================] - 9s 95ms/step - loss: 95.3792 - accuracy: 0.4417 - val_loss: 95.5615 - val_accuracy: 0.3457\n",
      "Epoch 13/30\n",
      "90/90 [==============================] - 9s 95ms/step - loss: 95.3226 - accuracy: 0.4852 - val_loss: 95.5138 - val_accuracy: 0.4180\n",
      "Epoch 14/30\n",
      "90/90 [==============================] - 9s 95ms/step - loss: 95.2733 - accuracy: 0.4960 - val_loss: 95.4659 - val_accuracy: 0.4799\n",
      "Epoch 15/30\n",
      "90/90 [==============================] - 9s 95ms/step - loss: 95.2169 - accuracy: 0.5217 - val_loss: 95.4182 - val_accuracy: 0.5490\n",
      "Epoch 16/30\n",
      "90/90 [==============================] - 9s 97ms/step - loss: 95.1651 - accuracy: 0.5520 - val_loss: 95.3704 - val_accuracy: 0.6068\n",
      "Epoch 17/30\n",
      "90/90 [==============================] - 9s 97ms/step - loss: 95.1152 - accuracy: 0.5649 - val_loss: 95.3225 - val_accuracy: 0.6749\n",
      "Epoch 18/30\n",
      "90/90 [==============================] - 9s 97ms/step - loss: 95.0645 - accuracy: 0.5854 - val_loss: 95.2744 - val_accuracy: 0.7224\n",
      "Epoch 19/30\n",
      "90/90 [==============================] - 9s 97ms/step - loss: 95.0093 - accuracy: 0.6000 - val_loss: 95.2266 - val_accuracy: 0.7822\n",
      "Epoch 20/30\n",
      "90/90 [==============================] - 9s 97ms/step - loss: 94.9600 - accuracy: 0.6139 - val_loss: 95.1789 - val_accuracy: 0.8142\n",
      "Epoch 21/30\n",
      "90/90 [==============================] - 9s 97ms/step - loss: 94.9071 - accuracy: 0.6424 - val_loss: 95.1312 - val_accuracy: 0.8524\n",
      "Epoch 22/30\n",
      "90/90 [==============================] - 9s 97ms/step - loss: 94.8567 - accuracy: 0.6487 - val_loss: 95.0835 - val_accuracy: 0.8720\n",
      "Epoch 23/30\n",
      "90/90 [==============================] - 9s 97ms/step - loss: 94.8045 - accuracy: 0.6699 - val_loss: 95.0360 - val_accuracy: 0.8958\n",
      "Epoch 24/30\n",
      "90/90 [==============================] - 9s 97ms/step - loss: 94.7573 - accuracy: 0.6639 - val_loss: 94.9884 - val_accuracy: 0.9133\n",
      "Epoch 25/30\n",
      "90/90 [==============================] - 9s 97ms/step - loss: 94.7015 - accuracy: 0.6932 - val_loss: 94.9408 - val_accuracy: 0.9319\n",
      "Epoch 26/30\n",
      "90/90 [==============================] - 9s 96ms/step - loss: 94.6535 - accuracy: 0.6960 - val_loss: 94.8933 - val_accuracy: 0.9443\n",
      "Epoch 27/30\n",
      "90/90 [==============================] - 9s 97ms/step - loss: 94.6089 - accuracy: 0.6974 - val_loss: 94.8455 - val_accuracy: 0.9598\n",
      "Epoch 28/30\n",
      "90/90 [==============================] - 9s 98ms/step - loss: 94.5566 - accuracy: 0.7054 - val_loss: 94.7978 - val_accuracy: 0.9690\n",
      "Epoch 29/30\n",
      "90/90 [==============================] - 9s 95ms/step - loss: 94.5039 - accuracy: 0.7141 - val_loss: 94.7508 - val_accuracy: 0.9794\n",
      "Epoch 30/30\n",
      "90/90 [==============================] - 9s 95ms/step - loss: 94.4528 - accuracy: 0.7242 - val_loss: 94.7031 - val_accuracy: 0.9856\n"
     ]
    }
   ],
   "source": [
    "history = model.fit(it, steps_per_epoch =len(X_train) // 32, epochs = 30, validation_data=val_it)"
   ]
  },
  {
   "cell_type": "code",
   "execution_count": 32,
   "metadata": {},
   "outputs": [],
   "source": [
    "# preds = model.predict(test_it , steps=10)"
   ]
  },
  {
   "cell_type": "code",
   "execution_count": 33,
   "metadata": {},
   "outputs": [
    {
     "data": {
      "image/png": "[encoded data removed]",
      "text/plain": [
       "<Figure size 432x288 with 1 Axes>"
      ]
     },
     "metadata": {
      "needs_background": "light"
     },
     "output_type": "display_data"
    },
    {
     "data": {
      "image/png": "[encoded data removed]",
      "text/plain": [
       "<Figure size 432x288 with 1 Axes>"
      ]
     },
     "metadata": {
      "needs_background": "light"
     },
     "output_type": "display_data"
    },
    {
     "data": {
      "image/png": "[encoded data removed]",
      "text/plain": [
       "<Figure size 432x288 with 1 Axes>"
      ]
     },
     "metadata": {
      "needs_background": "light"
     },
     "output_type": "display_data"
    },
    {
     "data": {
      "text/plain": [
       "[<matplotlib.lines.Line2D at 0x7f6d585b7cd0>]"
      ]
     },
     "execution_count": 33,
     "metadata": {},
     "output_type": "execute_result"
    },
    {
     "data": {
      "image/png": "[encoded data removed]",
      "text/plain": [
       "<Figure size 432x288 with 1 Axes>"
      ]
     },
     "metadata": {
      "needs_background": "light"
     },
     "output_type": "display_data"
    }
   ],
   "source": [
    "plt.plot(history.history['accuracy'])\n",
    "plt.show()\n",
    "plt.plot(history.history['loss'])\n",
    "plt.show()\n",
    "plt.plot(history.history['val_loss'])\n",
    "plt.show()\n",
    "plt.plot(history.history['val_accuracy'])"
   ]
  },
  {
   "cell_type": "code",
   "execution_count": 34,
   "metadata": {},
   "outputs": [],
   "source": [
    "# from numba import cuda\n",
    "# cuda.select_device(0)\n",
    "# cuda.close()"
   ]
  },
  {
   "cell_type": "code",
   "execution_count": null,
   "metadata": {},
   "outputs": [],
   "source": []
  }
 ],
 "metadata": {
  "kernelspec": {
   "display_name": "Python 3",
   "language": "python",
   "name": "python3"
  },
  "language_info": {
   "codemirror_mode": {
    "name": "ipython",
    "version": 3
   },
   "file_extension": ".py",
   "mimetype": "text/x-python",
   "name": "python",
   "nbconvert_exporter": "python",
   "pygments_lexer": "ipython3",
   "version": "3.8.5"
  }
 },
 "nbformat": 4,
 "nbformat_minor": 4
}
