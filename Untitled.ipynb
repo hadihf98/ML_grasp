{
 "cells": [
  {
   "cell_type": "code",
   "execution_count": 1,
   "metadata": {},
   "outputs": [],
   "source": [
    "import cv2\n",
    "\n",
    "from utils.loader import Loader\n",
    "from utils.image import draw_around_box, draw_pose, get_area_of_interest\n",
    "from utils.trainer import Trainer\n",
    "\n",
    "import tensorflow as tf\n",
    "from tensorflow.keras.preprocessing import image\n",
    "from tqdm import tqdm\n",
    "import matplotlib.pyplot as plt\n",
    "import numpy as np\n",
    "import pickle"
   ]
  },
  {
   "cell_type": "code",
   "execution_count": 2,
   "metadata": {},
   "outputs": [
    {
     "name": "stdout",
     "output_type": "stream",
     "text": [
      "Dataset has 22002 grasp attempts.\n",
      "Loaded action of episode 2020-06-02-15-32-19-203 with reward: 0 at pose: {'x': 0.032423629855482076, 'y': -0.08487897059742318, 'z': -0.005429356950419795, 'a': -1.2007533692649655, 'b': -0.00041230964446192786, 'c': 0.0003154579971864635, 'd': 0.086}\n",
      "{'pose': {'x': 0.032423629855482076, 'y': -0.08487897059742318, 'z': -0.005429356950419795, 'a': -1.2007533692649655, 'b': -0.00041230964446192786, 'c': 0.0003154579971864635, 'd': 0.086}, 'type': 'grasp', 'safe': 1, 'reward': 0, 'collision': True, 'estimated_reward': -1, 'method': 'Random', 'images': {'rd-v': {'info': {'pixel_size': 2000.0, 'min_depth': 0.2199999988079071, 'max_depth': 0.4099999964237213}, 'pose': {'x': -0.00029787366888672784, 'y': -0.00014581829117221723, 'z': 0.34995740510391815, 'a': -0.0008276157219531122, 'b': -0.00044344283826003306, 'c': -0.0002699471045195523}}, 'rc-v': {'info': {'pixel_size': 2000.0, 'min_depth': 0.2199999988079071, 'max_depth': 0.4099999964237213}, 'pose': {'x': -0.00029787366888672784, 'y': -0.00014581829117221723, 'z': 0.34995740510391815, 'a': -0.0008276157219531122, 'b': -0.00044344283826003306, 'c': -0.0002699471045195523}}}, 'bin': 'Left', 'bin_episode': '2020-06-02-15-30-34-807', 'final_pose': {'x': 0.5656502744683788, 'y': -0.09905621601854546, 'z': 0.013927145973977872, 'a': 0.36398755706221647, 'b': 0.0010277877961213696, 'c': -0.0054469987519177475, 'd': 0.0}, 'execution_time': 13.265782594680786, 'box_data': {'contour': [[0.08499999999999999, 0.13449999999999998, 0.068], [0.08499999999999999, -0.1475, 0.068], [-0.089, -0.1475, 0.068], [-0.089, 0.13449999999999998, 0.068]], 'color': [117, 66, 0]}, 'episode_id': '2020-06-02-15-32-19-203'}\n",
      "1\n",
      "2\n",
      "3\n",
      "Episode keys:  ['id', 'actions']\n",
      "Action keys:  ['pose', 'type', 'safe', 'reward', 'collision', 'estimated_reward', 'method', 'images', 'bin', 'bin_episode', 'final_pose', 'execution_time', 'box_data']\n",
      "Training set length: 15419\n",
      "Validation set length: 3223\n",
      "Test set length: 3360\n"
     ]
    }
   ],
   "source": [
    "# 1. Init loader, this will load the (non-image) dataset into memory\n",
    "loader = Loader()\n",
    "print(f'Dataset has {len(loader)} grasp attempts.')\n",
    "\n",
    "\n",
    "# 2. Load an action and/or image\n",
    "episode_index = 99\n",
    "action = loader.get_action(episode_index, action_id=0)\n",
    "print(f\"Loaded action of episode {action['episode_id']} with reward: {action['reward']} at pose: {action['pose']}\")\n",
    "print(action)\n",
    "\n",
    "rgbd_image = loader.get_image(episode_index, action_id=0, camera='rcd')\n",
    "\n",
    "# You can also load action and images at once\n",
    "action, rgb_image = loader.get_action(episode_index, action_id=0, images=['rc'])\n",
    "cv2.imshow('image', rgb_image.mat)  # OpenCV uses uint8 format\n",
    "cv2.waitKey(0)\n",
    "print(\"1\")\n",
    "\n",
    "# 3. Draw action and box on image for visualization\n",
    "draw_around_box(rgbd_image, action['box_data'])\n",
    "draw_pose(rgbd_image, action['pose'])\n",
    "cv2.imshow('rgb image', rgbd_image.mat[:, :, :3])\n",
    "cv2.imshow('depth image', rgbd_image.mat[:, :, 3])\n",
    "cv2.waitKey(0)\n",
    "print(\"2\")\n",
    "\n",
    "# 4. Get image area by an affine transformation. By specifying size_result, we can scale the final image down.\n",
    "area = get_area_of_interest(rgbd_image, action['pose'], size_cropped=(200, 200), size_result=(100, 100))  # [px]\n",
    "cv2.imshow('area', area)\n",
    "cv2.waitKey(0)\n",
    "print(\"3\")\n",
    "cv2.destroyAllWindows()\n",
    "\n",
    "# 5. Iterate over all actions\n",
    "for index, episode in enumerate(loader.yield_episodes()):\n",
    "    print('Episode keys: ', list(episode.keys()))\n",
    "    print('Action keys: ', list(episode['actions'][0].keys()))\n",
    "\n",
    "    # loader.get_image(index, action_id=0, camera='rcd')\n",
    "    break\n",
    "\n",
    "\n",
    "# 6. Split into Training / Validation / Test set\n",
    "training_set, validation_set, test_set = Trainer.split(loader.episodes, seed=42)\n",
    "print(f'Training set length: {len(training_set)}')\n",
    "print(f'Validation set length: {len(validation_set)}')\n",
    "print(f'Test set length: {len(test_set)}')\n"
   ]
  },
  {
   "cell_type": "code",
   "execution_count": 2,
   "metadata": {},
   "outputs": [
    {
     "name": "stderr",
     "output_type": "stream",
     "text": [
      "22002it [04:17, 85.55it/s]\n"
     ]
    }
   ],
   "source": [
    "training_data_img = []\n",
    "loader = Loader()\n",
    "\n",
    "for index, episode in tqdm(enumerate(loader.yield_episodes())):\n",
    "    action = episode['actions'][0]\n",
    "\n",
    "    depth_img = loader.get_image(index, action_id=0, camera='rcd')\n",
    "    draw_around_box(depth_img, action['box_data'])\n",
    "    draw_pose(depth_img, action['pose'])\n",
    "    area = get_area_of_interest(depth_img, action['pose'], size_cropped=(200, 200), size_result=(100, 100))\n",
    "    area = cv2.cvtColor(area, cv2.COLOR_BGR2GRAY)\n",
    "    training_data_img.append([area, action['reward']])\n",
    "#     break\n",
    "# cv2.imshow('area', area)\n",
    "# cv2.waitKey(0)\n",
    "# print(\"works\")\n",
    "# cv2.destroyAllWindows()"
   ]
  },
  {
   "cell_type": "code",
   "execution_count": 3,
   "metadata": {},
   "outputs": [],
   "source": [
    "# when need to save\n",
    "# filename = 'training_data_area'\n",
    "outfile = open(filename,'wb')\n",
    "# pickle.dump(training_data_img,outfile)\n",
    "outfile.close()"
   ]
  },
  {
   "cell_type": "code",
   "execution_count": 2,
   "metadata": {},
   "outputs": [],
   "source": [
    "# when need to load\n",
    "filename = 'training_data_area'\n",
    "infile = open(filename,'rb')\n",
    "# training_data_img = pickle.load(infile)\n",
    "infile.close()"
   ]
  },
  {
   "cell_type": "code",
   "execution_count": 3,
   "metadata": {},
   "outputs": [],
   "source": [
    "X = []\n",
    "y = []\n"
   ]
  },
  {
   "cell_type": "code",
   "execution_count": 4,
   "metadata": {},
   "outputs": [],
   "source": [
    "for features, label in training_data_img:\n",
    "    X.append(features)\n",
    "    y.append(label)\n",
    "IMG_SIZE_y = 100\n",
    "IMG_SIZE_x = 100\n",
    "\n",
    "X = np.array(X).reshape(-1, IMG_SIZE_x, IMG_SIZE_y, 1)\n",
    "y = np.array(y)"
   ]
  },
  {
   "cell_type": "code",
   "execution_count": null,
   "metadata": {},
   "outputs": [],
   "source": []
  },
  {
   "cell_type": "code",
   "execution_count": 5,
   "metadata": {
    "scrolled": false
   },
   "outputs": [
    {
     "name": "stdout",
     "output_type": "stream",
     "text": [
      "Model: \"sequential\"\n",
      "_________________________________________________________________\n",
      "Layer (type)                 Output Shape              Param #   \n",
      "=================================================================\n",
      "conv2d (Conv2D)              (None, 48, 48, 32)        832       \n",
      "_________________________________________________________________\n",
      "leaky_re_lu (LeakyReLU)      (None, 48, 48, 32)        0         \n",
      "_________________________________________________________________\n",
      "batch_normalization (BatchNo (None, 48, 48, 32)        128       \n",
      "_________________________________________________________________\n",
      "conv2d_1 (Conv2D)            (None, 44, 44, 48)        38448     \n",
      "_________________________________________________________________\n",
      "leaky_re_lu_1 (LeakyReLU)    (None, 44, 44, 48)        0         \n",
      "_________________________________________________________________\n",
      "batch_normalization_1 (Batch (None, 44, 44, 48)        192       \n",
      "_________________________________________________________________\n",
      "conv2d_2 (Conv2D)            (None, 40, 40, 64)        76864     \n",
      "_________________________________________________________________\n",
      "leaky_re_lu_2 (LeakyReLU)    (None, 40, 40, 64)        0         \n",
      "_________________________________________________________________\n",
      "batch_normalization_2 (Batch (None, 40, 40, 64)        256       \n",
      "_________________________________________________________________\n",
      "dropout (Dropout)            (None, 40, 40, 64)        0         \n",
      "_________________________________________________________________\n",
      "conv2d_3 (Conv2D)            (None, 35, 35, 142)       327310    \n",
      "_________________________________________________________________\n",
      "leaky_re_lu_3 (LeakyReLU)    (None, 35, 35, 142)       0         \n",
      "_________________________________________________________________\n",
      "dropout_1 (Dropout)          (None, 35, 35, 142)       0         \n",
      "_________________________________________________________________\n",
      "conv2d_4 (Conv2D)            (None, 35, 35, 128)       18304     \n",
      "_________________________________________________________________\n",
      "leaky_re_lu_4 (LeakyReLU)    (None, 35, 35, 128)       0         \n",
      "_________________________________________________________________\n",
      "dropout_2 (Dropout)          (None, 35, 35, 128)       0         \n",
      "_________________________________________________________________\n",
      "conv2d_5 (Conv2D)            (None, 35, 35, 1)         129       \n",
      "_________________________________________________________________\n",
      "flatten (Flatten)            (None, 1225)              0         \n",
      "_________________________________________________________________\n",
      "dense (Dense)                (None, 1)                 1226      \n",
      "_________________________________________________________________\n",
      "activation (Activation)      (None, 1)                 0         \n",
      "=================================================================\n",
      "Total params: 463,689\n",
      "Trainable params: 463,401\n",
      "Non-trainable params: 288\n",
      "_________________________________________________________________\n"
     ]
    }
   ],
   "source": [
    "\n",
    "\n",
    "import tensorflow as tf\n",
    "from tensorflow.keras.models import Sequential\n",
    "from tensorflow.keras.layers import Dense, Dropout, Activation, Flatten, Conv2D, LeakyReLU, BatchNormalization\n",
    "\n",
    "# config = tf.ConfigProto()\n",
    "# config.gpu_options.per_process_gpu_memory_fraction = 0.4\n",
    "# session = tf.Session(config=config)\n",
    "\n",
    "physical_devices = tf.config.experimental.list_physical_devices('GPU')\n",
    "tf.config.experimental.set_memory_growth(physical_devices[0], True)\n",
    "\n",
    "X = X/255.0\n",
    "\n",
    "# model = Sequential()\n",
    "# model.add(Conv2D(64, (3,3),input_shape = X.shape[1:]))\n",
    "# model.add(Activation('relu'))\n",
    "\n",
    "# model.add(Conv2D(64, (3,3)))\n",
    "# model.add(Activation('relu'))\n",
    "\n",
    "# model.add(Flatten())\n",
    "# model.add(Dense(64))\n",
    "\n",
    "# model.add(Dense(1))\n",
    "# model.add(Activation('sigmoid'))\n",
    "\n",
    "\n",
    "\n",
    "\n",
    "\n",
    "def reg(l1=0.0, l2=0.3): tf.keras.regularizers.l1_l2(l1=l1, l2=l2)\n",
    "\n",
    "model = Sequential()\n",
    "model.add(Conv2D(32, (5,5),input_shape = X.shape[1:],strides = (2,2), kernel_regularizer = reg(), bias_regularizer = reg()))\n",
    "model.add(LeakyReLU(alpha = 0.1))\n",
    "model.add(BatchNormalization())\n",
    "\n",
    "model.add(Conv2D(48, (5,5),input_shape = X.shape[1:],dilation_rate=(1,1),strides = (1,1) ,kernel_regularizer = reg(), bias_regularizer = reg()))\n",
    "model.add(LeakyReLU(alpha = 0.1))\n",
    "model.add(BatchNormalization())\n",
    "\n",
    "model.add(Conv2D(64, (5,5),dilation_rate=(1,1), kernel_regularizer = reg(), bias_regularizer = reg()))\n",
    "model.add(LeakyReLU(alpha = 0.1))\n",
    "model.add(BatchNormalization())\n",
    "model.add(Dropout(0.4))\n",
    "\n",
    "model.add(Conv2D(142, (6,6),dilation_rate=(1,1) ,kernel_regularizer = reg(), bias_regularizer = reg()))\n",
    "model.add(LeakyReLU(alpha = 0.1))\n",
    "# model.add(BatchNormalization())\n",
    "model.add(Dropout(0.3))\n",
    "\n",
    "model.add(Conv2D(128, (1,1),dilation_rate=(1,1) ,kernel_regularizer = reg(), bias_regularizer = reg()))\n",
    "model.add(LeakyReLU(alpha = 0.1))\n",
    "model.add(Dropout(0.3))\n",
    "\n",
    "\n",
    "model.add(Conv2D(1, (1,1), dilation_rate=(1,1), bias_regularizer = reg(l2=0.2)))\n",
    "\n",
    "model.add(Flatten())\n",
    "model.add(Dense(1))\n",
    "\n",
    "model.add(Activation('sigmoid'))\n",
    "\n",
    "# model.add(Conv2D(64, (5,5),dilation_rate=(1,1),strides = (1,1) ,kernel_regularizer = reg(), bias_regularizer = reg(), input_shape = X.shape[1:]))\n",
    "# model.add(LeakyReLU(alpha = 0.1))\n",
    "# model.add(BatchNormalization())\n",
    "\n",
    "# model.add(Conv2D(64, (5,5),dilation_rate=(1,1),strides = (1,1) ,kernel_regularizer = reg(), bias_regularizer = reg(), input_shape = X.shape[1:]))\n",
    "# model.add(LeakyReLU(alpha = 0.1))\n",
    "# model.add(BatchNormalization())\n",
    "# model.add(Dropout(0.4))\n",
    "\n",
    "# model.add(Conv2D(64, (6,6),dilation_rate=(1,1),strides = (1,1) ,kernel_regularizer = reg(), bias_regularizer = reg(), input_shape = X.shape[1:]))\n",
    "# model.add(LeakyReLU(alpha = 0.1))\n",
    "# # model.add(BatchNormalization(training = False))\n",
    "# model.add(Dropout(0.3))\n",
    "\n",
    "# model.add(Conv2D(64, (1,1),dilation_rate=(1,1),strides = (1,1) ,kernel_regularizer = reg(), bias_regularizer = reg(), input_shape = X.shape[1:]))\n",
    "# model.add(LeakyReLU(alpha = 0.1))\n",
    "# model.add(BatchNormalization(training = False))\n",
    "# model.add(Dropout(0.3))\n",
    "\n",
    "# model.add(Conv2D(3,(1,1),dilation_rate=(1,1),bias_regularizer = tf.keras.regularizers.l2(0.2) ))\n",
    "# model.add(Activation('sigmoid'))\n",
    "model.compile(loss= 'binary_crossentropy', optimizer ='adam', metrics = ['accuracy'])\n",
    "model.summary()\n",
    "\n"
   ]
  },
  {
   "cell_type": "code",
   "execution_count": 6,
   "metadata": {},
   "outputs": [
    {
     "name": "stdout",
     "output_type": "stream",
     "text": [
      "Epoch 1/5\n",
      "619/619 [==============================] - 34s 55ms/step - loss: 0.5739 - accuracy: 0.7498 - val_loss: 0.8178 - val_accuracy: 0.5207\n",
      "Epoch 2/5\n",
      "619/619 [==============================] - 19s 30ms/step - loss: 0.4713 - accuracy: 0.7911 - val_loss: 0.9727 - val_accuracy: 0.5152\n",
      "Epoch 3/5\n",
      "619/619 [==============================] - 19s 30ms/step - loss: 0.4437 - accuracy: 0.7992 - val_loss: 0.9991 - val_accuracy: 0.5257\n",
      "Epoch 4/5\n",
      "619/619 [==============================] - 19s 31ms/step - loss: 0.4327 - accuracy: 0.8036 - val_loss: 0.6930 - val_accuracy: 0.5806\n",
      "Epoch 5/5\n",
      "619/619 [==============================] - 19s 30ms/step - loss: 0.4243 - accuracy: 0.8058 - val_loss: 1.2817 - val_accuracy: 0.5161\n"
     ]
    }
   ],
   "source": [
    "history = model.fit(X, y , batch_size = 32, epochs = 5,\n",
    " validation_split = 0.1)\n"
   ]
  },
  {
   "cell_type": "code",
   "execution_count": 10,
   "metadata": {},
   "outputs": [
    {
     "data": {
      "image/png": "[encoded data removed]",
      "text/plain": [
       "<Figure size 432x288 with 1 Axes>"
      ]
     },
     "metadata": {
      "needs_background": "light"
     },
     "output_type": "display_data"
    },
    {
     "data": {
      "image/png": "[encoded data removed]",
      "text/plain": [
       "<Figure size 432x288 with 1 Axes>"
      ]
     },
     "metadata": {
      "needs_background": "light"
     },
     "output_type": "display_data"
    },
    {
     "data": {
      "text/plain": [
       "[<matplotlib.lines.Line2D at 0x7fd6ffbcd040>]"
      ]
     },
     "execution_count": 10,
     "metadata": {},
     "output_type": "execute_result"
    },
    {
     "data": {
      "image/png": "[encoded data removed]",
      "text/plain": [
       "<Figure size 432x288 with 1 Axes>"
      ]
     },
     "metadata": {
      "needs_background": "light"
     },
     "output_type": "display_data"
    }
   ],
   "source": [
    "plt.plot(history.history['accuracy'])\n",
    "plt.show()\n",
    "plt.plot(history.history['loss'])\n",
    "plt.show()\n",
    "plt.plot(history.history['val_loss'])\n"
   ]
  }
 ],
 "metadata": {
  "kernelspec": {
   "display_name": "Python 3",
   "language": "python",
   "name": "python3"
  },
  "language_info": {
   "codemirror_mode": {
    "name": "ipython",
    "version": 3
   },
   "file_extension": ".py",
   "mimetype": "text/x-python",
   "name": "python",
   "nbconvert_exporter": "python",
   "pygments_lexer": "ipython3",
   "version": "3.8.5"
  }
 },
 "nbformat": 4,
 "nbformat_minor": 4
}
